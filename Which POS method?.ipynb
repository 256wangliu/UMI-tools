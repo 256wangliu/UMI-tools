{
 "cells": [
  {
   "cell_type": "markdown",
   "metadata": {},
   "source": [
    "# Which pos method best represets the position of a read"
   ]
  },
  {
   "cell_type": "markdown",
   "metadata": {},
   "source": [
    "Current versions of umi_tools assume that the correct base from which to measure position of a read is not the POS assigned by the mapper. Two reasons for this:\n",
    "\n",
    "1) POS only corresponds to the start of the read for reads on the plus strand, on the minus strand, the \n",
    "   start of the read is more aligned with aend.\n",
    "\n",
    "2) POS/aend is the start/end of the alignment, not the start/end of the read. This is a particular worry\n",
    "   with  alignments that might be spliced: If a read overhangs a junction by a couple of reads, the other \n",
    "   side might not be aligned, but if 1 base overhung vs 6 bases, we should expect them to be different reads. \n",
    "   Bases softclipped on the 5' end are unlikely to represent adaptor contamination, and so these bases are \n",
    "   accounted for when calculating the position.\n",
    "\n",
    "However we have never properly checked if this is really better or worst. This notebook atttempts to do a systematic investigation into which is better: to use alignment position or to use implied start position of read sequence. \n",
    "\n",
    "The plan is this:\n",
    "\n",
    "Group reads either using implied (with softclip) or aligned start (without softclip). Then, for each read calculate what the position would have been had the other method been used. If using the other method results in more than one location, then if these locations are not right locations, and all of the reads coming from the same place, reads from different locations should share more UMIs than you'd expect. \n",
    "\n",
    "We will perform this calculation both ways round (group by implied and then ask if there is more than one alignment position, group by alignment position and ask if there is more than one implied position).\n",
    "\n",
    "The below uses the `{IS}-TestingPOS` branch of the repo, which introduces the option to switch between these behavoirs using the `use_softclip` slot in the `options` dictionary."
   ]
  },
  {
   "cell_type": "code",
   "execution_count": 1,
   "metadata": {},
   "outputs": [],
   "source": [
    "from umi_tools.umi_methods import get_bundles, get_average_umi_distance, get_read_position\n",
    "import pandas as pd\n",
    "import pysam\n",
    "from collections import defaultdict\n",
    "class AttrDict(dict):\n",
    "    def __init__(self, *args, **kwargs):\n",
    "        super(AttrDict, self).__init__(*args, **kwargs)\n",
    "        self.__dict__ = self\n",
    "        "
   ]
  },
  {
   "cell_type": "code",
   "execution_count": 70,
   "metadata": {},
   "outputs": [],
   "source": [
    "def fraction_overlap(bamfile, use_softclip):\n",
    "    \n",
    "    options = AttrDict({'get_umi_method': 'read_id',\n",
    "           'per_cell': False,\n",
    "           'per_gene': False,\n",
    "           'detection_method': \"NH\",\n",
    "           'whole_contig': False,\n",
    "           'paired': False,\n",
    "           'subset': None,\n",
    "           'mapping_quality': None,\n",
    "           'soft_clip_threshold': 4,\n",
    "           'spliced': False,\n",
    "           'use_softclip': use_softclip,\n",
    "           'umi_sep' : '_',\n",
    "           'read_length': False,\n",
    "           'ignore_umi': False})\n",
    "    \n",
    "    bamfile = pysam.AlignmentFile(bamfile)\n",
    "    reads = bamfile.fetch(reference=\"1\")\n",
    "    bundle_getter = get_bundles(options, all_reads=True)\n",
    "    chrs, poses, n_overlap, totals, n_poses = [],[],[], [], []\n",
    "    for bundle, _, _ in bundle_getter(reads):\n",
    "        pos_dict = defaultdict(set)\n",
    "    \n",
    "        for umi in bundle:\n",
    "            for read in bundle[umi][\"read\"]:\n",
    "                pos_dict[get_read_position(read, 4, not use_softclip)[1]].add(umi)\n",
    "    \n",
    "        pos_size = [len(pos_dict[x]) for x in pos_dict.keys()]\n",
    "        reference_pos = pos_dict.keys()[pos_size.index(max(pos_size))]\n",
    "    \n",
    "        total = 0\n",
    "        overlapping = 0\n",
    "        if len(pos_dict.keys()) > 0:\n",
    "        \n",
    "            reference_umis = pos_dict.pop(reference_pos)\n",
    "    \n",
    "            for pos in pos_dict.values():\n",
    "                total += len(pos)\n",
    "                overlapping += len(pos.intersection(reference_umis))\n",
    "        \n",
    "        chrs.append(bundle_getter.current_chr)\n",
    "        poses.append(reference_pos)\n",
    "        n_overlap.append(overlapping)\n",
    "        totals.append(total)\n",
    "        n_poses.append(len(pos_dict.keys()) + 1)\n",
    "        \n",
    "    return pd.DataFrame({\"Chr\":chrs, \"pos\":poses, \"n_overlap\": n_overlap,\n",
    "                         \"total\": totals,\n",
    "                         \"n_poses\": n_poses})      \n",
    "        "
   ]
  },
  {
   "cell_type": "markdown",
   "metadata": {},
   "source": [
    "The above function groups reads by one method and then asks how many alignment positions there are using the other. It selects the position with the largest number of UMIs as the \"reference\" position and records how many of the UMIs at over positions overlap with an UMI at the reference position. "
   ]
  },
  {
   "cell_type": "code",
   "execution_count": 71,
   "metadata": {},
   "outputs": [],
   "source": [
    "with_softclip = fraction_overlap(\"C18-02B-BIOQ-sktrim-um-star-ensembl-Aligned.sortedByCoord.out.1.bam\", True)"
   ]
  },
  {
   "cell_type": "markdown",
   "metadata": {},
   "source": [
    "First we apply this using the implied read start position taking account of the softclipping. "
   ]
  },
  {
   "cell_type": "code",
   "execution_count": 76,
   "metadata": {},
   "outputs": [
    {
     "name": "stdout",
     "output_type": "stream",
     "text": [
      "3.5%\n"
     ]
    }
   ],
   "source": [
    "print (\"%.1f%%\" % ((with_softclip.n_poses > 1).sum()*100.0/with_softclip.shape[0]))"
   ]
  },
  {
   "cell_type": "markdown",
   "metadata": {},
   "source": [
    "About 3.5% of positions discovered by using softclipping break down into more than one position when grouped by POS. "
   ]
  },
  {
   "cell_type": "code",
   "execution_count": 81,
   "metadata": {},
   "outputs": [
    {
     "data": {
      "text/plain": [
       "False    40842\n",
       "True       449\n",
       "Name: n_overlap, dtype: int64"
      ]
     },
     "execution_count": 81,
     "metadata": {},
     "output_type": "execute_result"
    }
   ],
   "source": [
    "(with_softclip.n_overlap > 1)[with_softclip.n_poses > 1].value_counts()"
   ]
  },
  {
   "cell_type": "code",
   "execution_count": 83,
   "metadata": {},
   "outputs": [
    {
     "data": {
      "text/plain": [
       "False    0.989126\n",
       "True     0.010874\n",
       "Name: n_overlap, dtype: float64"
      ]
     },
     "execution_count": 83,
     "metadata": {},
     "output_type": "execute_result"
    }
   ],
   "source": [
    "(with_softclip.n_overlap > 1)[with_softclip.n_poses > 1].value_counts()\\\n",
    "  /float((with_softclip.n_poses > 1).sum())"
   ]
  },
  {
   "cell_type": "markdown",
   "metadata": {},
   "source": [
    "And in just over 1% of those cases there is some overlap between the \"reference\" position and the other positions. The next plot will allow us to look at how much overlap there is:"
   ]
  },
  {
   "cell_type": "code",
   "execution_count": 19,
   "metadata": {},
   "outputs": [],
   "source": [
    "%matplotlib inline"
   ]
  },
  {
   "cell_type": "code",
   "execution_count": 21,
   "metadata": {},
   "outputs": [
    {
     "data": {
      "text/plain": [
       "<matplotlib.axes._subplots.AxesSubplot at 0x7f0eae0d6490>"
      ]
     },
     "execution_count": 21,
     "metadata": {},
     "output_type": "execute_result"
    },
    {
     "data": {
      "image/png": "[encoded data removed]",
      "text/plain": [
       "<matplotlib.figure.Figure at 0x7f0eae0fa350>"
      ]
     },
     "metadata": {},
     "output_type": "display_data"
    }
   ],
   "source": [
    "(with_softclip.n_overlap*100.0/with_softclip.total)[with_softclip.n_poses > 1].hist()"
   ]
  },
  {
   "cell_type": "markdown",
   "metadata": {},
   "source": [
    "So in most cases where there is an overlap, the overlap is total. This probably means that there is only one UMI at the non-reference position.\n",
    "\n",
    "What happens if we do this the other way around? Group reads by their mapping POS and then investigate the inferred position of these reads?"
   ]
  },
  {
   "cell_type": "code",
   "execution_count": 77,
   "metadata": {},
   "outputs": [],
   "source": [
    "without_softclip = fraction_overlap(\"C18-02B-BIOQ-sktrim-um-star-ensembl-Aligned.sortedByCoord.out.1.bam\", False)"
   ]
  },
  {
   "cell_type": "code",
   "execution_count": null,
   "metadata": {},
   "outputs": [],
   "source": []
  },
  {
   "cell_type": "code",
   "execution_count": 78,
   "metadata": {},
   "outputs": [
    {
     "name": "stdout",
     "output_type": "stream",
     "text": [
      "5.6%\n"
     ]
    }
   ],
   "source": [
    "print (\"%.1f%%\" % ((without_softclip.n_poses > 1).sum()*100.0/without_softclip.shape[0]))"
   ]
  },
  {
   "cell_type": "markdown",
   "metadata": {},
   "source": [
    " So here 5.6% of positions have at least one read that has a different implied position to the rest of the reads. This is considerably higher than for grouping reads by their implied position. "
   ]
  },
  {
   "cell_type": "code",
   "execution_count": 79,
   "metadata": {},
   "outputs": [
    {
     "data": {
      "text/plain": [
       "False    63334\n",
       "True       816\n",
       "Name: n_overlap, dtype: int64"
      ]
     },
     "execution_count": 79,
     "metadata": {},
     "output_type": "execute_result"
    }
   ],
   "source": [
    "(without_softclip.n_overlap > 1)[without_softclip.n_poses > 1].value_counts()"
   ]
  },
  {
   "cell_type": "code",
   "execution_count": 84,
   "metadata": {},
   "outputs": [
    {
     "data": {
      "text/plain": [
       "False    0.98728\n",
       "True     0.01272\n",
       "Name: n_overlap, dtype: float64"
      ]
     },
     "execution_count": 84,
     "metadata": {},
     "output_type": "execute_result"
    }
   ],
   "source": [
    "(without_softclip.n_overlap > 1)[without_softclip.n_poses > 1].value_counts()/float((without_softclip.n_poses >1).sum())"
   ]
  },
  {
   "cell_type": "markdown",
   "metadata": {},
   "source": [
    "So the *fraction* of sites that have an overlap is more or less the same, but because there are more sites, then this is a higher absolute number of sites.\n",
    "\n",
    " "
   ]
  },
  {
   "cell_type": "code",
   "execution_count": 32,
   "metadata": {},
   "outputs": [
    {
     "data": {
      "text/plain": [
       "<matplotlib.axes._subplots.AxesSubplot at 0x7f0eb4a102d0>"
      ]
     },
     "execution_count": 32,
     "metadata": {},
     "output_type": "execute_result"
    },
    {
     "data": {
      "image/png": "[encoded data removed]",
      "text/plain": [
       "<matplotlib.figure.Figure at 0x7f0eb4b1cfd0>"
      ]
     },
     "metadata": {},
     "output_type": "display_data"
    }
   ],
   "source": [
    "(without_softclip.n_overlap*100.0/without_softclip.total)[without_softclip.n_poses > 1].hist()"
   ]
  },
  {
   "cell_type": "markdown",
   "metadata": {},
   "source": [
    "Now we wouldn't neccesarily expect all of the UMIs: in the situation where each UMI had only one read then in fact we would expect all the positions to have different UMIs. Also the above assumes that picking one reference position is the right way to go. This might not be the case. The below instead records could many of the locations in a group have at least one UMI that overlaps with at least one UMI in another position in the group. \n",
    "\n",
    "Of course they *could* be in the same UMI clusters, but we are assuming that errors that cause new UMIs are independent of errors that give reads new locations. Of course, this might not be true."
   ]
  },
  {
   "cell_type": "code",
   "execution_count": 125,
   "metadata": {},
   "outputs": [],
   "source": [
    "def any_overlap(bamfile, use_softclip, chrom=None):\n",
    "    \n",
    "    options = AttrDict({'get_umi_method': 'read_id',\n",
    "           'per_cell': False,\n",
    "           'per_gene': False,\n",
    "           'detection_method': \"NH\",\n",
    "           'whole_contig': False,\n",
    "           'paired': False,\n",
    "           'subset': None,\n",
    "           'mapping_quality': None,\n",
    "           'soft_clip_threshold': 4,\n",
    "           'spliced': False,\n",
    "           'use_softclip': use_softclip,\n",
    "           'umi_sep' : '_',\n",
    "           'read_length': False,\n",
    "           'ignore_umi': False})\n",
    "    \n",
    "    bamfile = pysam.AlignmentFile(bamfile)\n",
    "    reads = bamfile.fetch(reference=chrom)\n",
    "    bundle_getter = get_bundles(options, all_reads=True)\n",
    "    chrs, poses, n_overlap, totals, n_poses = [],[],[], [], []\n",
    "    for bundle, _, _ in bundle_getter(reads):\n",
    "        pos_dict = defaultdict(set)\n",
    "    \n",
    "        for umi in bundle:\n",
    "            for read in bundle[umi][\"read\"]:\n",
    "                pos_dict[get_read_position(read, 4, not use_softclip)[1]].add(umi)\n",
    "        overlapping = 0\n",
    "        np = 0\n",
    "        while len(pos_dict) > 1:\n",
    "            cur_pos = pos_dict.pop(pos_dict.keys()[0])\n",
    "            if any(len(cur_pos.intersection(p)) > 0\n",
    "                   for p in pos_dict.values()):\n",
    "                overlapping += 1\n",
    "            np += 1\n",
    "        \n",
    "        chrs.append(bundle_getter.current_chr)\n",
    "        n_overlap.append(overlapping)\n",
    "        n_poses.append(np)\n",
    "        \n",
    "    return pd.DataFrame({\"Chr\":chrs, \"n_overlap\": n_overlap,\n",
    "                         \"n_poses\": n_poses})      "
   ]
  },
  {
   "cell_type": "code",
   "execution_count": 106,
   "metadata": {},
   "outputs": [],
   "source": [
    "with_softclip = any_overlap(\"C18-02B-BIOQ-sktrim-um-star-ensembl-Aligned.sortedByCoord.out.1.bam\", True)"
   ]
  },
  {
   "cell_type": "code",
   "execution_count": 117,
   "metadata": {},
   "outputs": [
    {
     "data": {
      "text/plain": [
       "<matplotlib.axes._subplots.AxesSubplot at 0x7f0eab8c6890>"
      ]
     },
     "execution_count": 117,
     "metadata": {},
     "output_type": "execute_result"
    },
    {
     "data": {
      "image/png": "[encoded data removed]",
      "text/plain": [
       "<matplotlib.figure.Figure at 0x7f0ebb014b10>"
      ]
     },
     "metadata": {},
     "output_type": "display_data"
    }
   ],
   "source": [
    "(with_softclip.n_overlap*100.0/(with_softclip.n_poses + 1))[with_softclip.n_poses > 0].hist()"
   ]
  },
  {
   "cell_type": "code",
   "execution_count": 112,
   "metadata": {},
   "outputs": [
    {
     "data": {
      "text/plain": [
       "'8.9%'"
      ]
     },
     "execution_count": 112,
     "metadata": {},
     "output_type": "execute_result"
    }
   ],
   "source": [
    "\"%.1f%%\" % ((with_softclip.n_overlap > 0).sum()*100.0/(with_softclip.n_poses > 0).sum())"
   ]
  },
  {
   "cell_type": "markdown",
   "metadata": {},
   "source": [
    "There is a much larger group of positions where at least one UMI overlaps with an UMI from a different position in the group. Remeber, this is where the grouping is done by implied position and then we give reads in each group a position using the start of the alignment. There are about 41,000 groups where the reads have more than one reference position, and in 9% of cases the reads at some of these positions share UMIs. "
   ]
  },
  {
   "cell_type": "code",
   "execution_count": 113,
   "metadata": {},
   "outputs": [],
   "source": [
    "without_softclip = any_overlap(\"C18-02B-BIOQ-sktrim-um-star-ensembl-Aligned.sortedByCoord.out.1.bam\", False) "
   ]
  },
  {
   "cell_type": "code",
   "execution_count": 114,
   "metadata": {},
   "outputs": [
    {
     "data": {
      "text/plain": [
       "7.1145752143413876"
      ]
     },
     "execution_count": 114,
     "metadata": {},
     "output_type": "execute_result"
    }
   ],
   "source": [
    "(without_softclip.n_overlap > 0).sum()*100.0/(without_softclip.n_poses > 0).sum()"
   ]
  },
  {
   "cell_type": "code",
   "execution_count": 116,
   "metadata": {},
   "outputs": [
    {
     "data": {
      "text/plain": [
       "<matplotlib.axes._subplots.AxesSubplot at 0x7f0ec4798310>"
      ]
     },
     "execution_count": 116,
     "metadata": {},
     "output_type": "execute_result"
    },
    {
     "data": {
      "image/png": "[encoded data removed]",
      "text/plain": [
       "<matplotlib.figure.Figure at 0x7f0eb8d6bbd0>"
      ]
     },
     "metadata": {},
     "output_type": "display_data"
    }
   ],
   "source": [
    "(without_softclip.n_overlap*100.0/(without_softclip.n_poses + 1))[without_softclip.n_poses > 0].hist()"
   ]
  },
  {
   "cell_type": "markdown",
   "metadata": {},
   "source": [
    "So when we do the grouping the other way around, we get a (significantly?) smaller proportion of the groupings with overlapping UMIs, but from a much larger pool of positions. Does this mean that there are MORE positisions that share a UMI with another, overall?"
   ]
  },
  {
   "cell_type": "code",
   "execution_count": 120,
   "metadata": {},
   "outputs": [
    {
     "data": {
      "text/plain": [
       "False    37626\n",
       "True      3665\n",
       "Name: n_overlap, dtype: int64"
      ]
     },
     "execution_count": 120,
     "metadata": {},
     "output_type": "execute_result"
    }
   ],
   "source": [
    "(with_softclip.n_overlap > 0)[with_softclip.n_poses > 0].value_counts()"
   ]
  },
  {
   "cell_type": "code",
   "execution_count": 121,
   "metadata": {},
   "outputs": [
    {
     "data": {
      "text/plain": [
       "False    59586\n",
       "True      4564\n",
       "Name: n_overlap, dtype: int64"
      ]
     },
     "execution_count": 121,
     "metadata": {},
     "output_type": "execute_result"
    }
   ],
   "source": [
    "(without_softclip.n_overlap > 0)[without_softclip.n_poses > 0].value_counts()"
   ]
  },
  {
   "cell_type": "markdown",
   "metadata": {},
   "source": [
    "When grouped by alignment start position a higher NUMBER of additional positions that are created by regrouping by implied position share an UMI, but this is a smaller fraction of all the positions. "
   ]
  },
  {
   "cell_type": "code",
   "execution_count": 123,
   "metadata": {},
   "outputs": [
    {
     "data": {
      "text/plain": [
       "7.1909109631358552"
      ]
     },
     "execution_count": 123,
     "metadata": {},
     "output_type": "execute_result"
    }
   ],
   "source": [
    "without_softclip.n_overlap.sum()*100.0/without_softclip.n_poses.sum()"
   ]
  },
  {
   "cell_type": "code",
   "execution_count": 124,
   "metadata": {},
   "outputs": [
    {
     "data": {
      "text/plain": [
       "8.6811571951834718"
      ]
     },
     "execution_count": 124,
     "metadata": {},
     "output_type": "execute_result"
    }
   ],
   "source": [
    "with_softclip.n_overlap.sum()*100.0/with_softclip.n_poses.sum()"
   ]
  },
  {
   "cell_type": "code",
   "execution_count": 66,
   "metadata": {},
   "outputs": [
    {
     "data": {
      "text/plain": [
       "64150"
      ]
     },
     "execution_count": 66,
     "metadata": {},
     "output_type": "execute_result"
    }
   ],
   "source": [
    "(without_softclip.n_poses > 0).sum()"
   ]
  },
  {
   "cell_type": "code",
   "execution_count": 68,
   "metadata": {},
   "outputs": [
    {
     "data": {
      "text/plain": [
       "41291"
      ]
     },
     "execution_count": 68,
     "metadata": {},
     "output_type": "execute_result"
    }
   ],
   "source": [
    "(with_softclip.n_poses > 0).sum()"
   ]
  },
  {
   "cell_type": "markdown",
   "metadata": {},
   "source": [
    "### With iCLIP sample"
   ]
  },
  {
   "cell_type": "markdown",
   "metadata": {},
   "source": [
    "We need to repeat this analysis with several samples to ensure that the results are not sample specific. We will repeat the above with an iCLIP sample that is much more highly duplicated. "
   ]
  },
  {
   "cell_type": "code",
   "execution_count": 126,
   "metadata": {},
   "outputs": [],
   "source": [
    " iclip_softclip = any_overlap(\"merged_Alyref-FLAG-R2.star.bam\", True, \"chr1\")"
   ]
  },
  {
   "cell_type": "code",
   "execution_count": 131,
   "metadata": {},
   "outputs": [
    {
     "data": {
      "text/plain": [
       "'10.3%'"
      ]
     },
     "execution_count": 131,
     "metadata": {},
     "output_type": "execute_result"
    }
   ],
   "source": [
    "\"%.1f%%\" %((iclip_softclip.n_poses > 0).sum()*100.0/iclip_softclip.shape[0])"
   ]
  },
  {
   "cell_type": "code",
   "execution_count": 128,
   "metadata": {},
   "outputs": [
    {
     "data": {
      "text/plain": [
       "'95.3%'"
      ]
     },
     "execution_count": 128,
     "metadata": {},
     "output_type": "execute_result"
    }
   ],
   "source": [
    "\"%.1f%%\" % ((iclip_softclip.n_overlap > 0).sum()*100.0/(iclip_softclip.n_poses > 0).sum())"
   ]
  },
  {
   "cell_type": "code",
   "execution_count": 129,
   "metadata": {},
   "outputs": [
    {
     "data": {
      "text/plain": [
       "<matplotlib.axes._subplots.AxesSubplot at 0x7f0ec47954d0>"
      ]
     },
     "execution_count": 129,
     "metadata": {},
     "output_type": "execute_result"
    },
    {
     "data": {
      "image/png": "[encoded data removed]",
      "text/plain": [
       "<matplotlib.figure.Figure at 0x7f0eb8d6b610>"
      ]
     },
     "metadata": {},
     "output_type": "display_data"
    }
   ],
   "source": [
    "(iclip_softclip.n_overlap*100.0/(iclip_softclip.n_poses + 1))[iclip_softclip.n_poses > 0].hist()"
   ]
  },
  {
   "cell_type": "code",
   "execution_count": 132,
   "metadata": {},
   "outputs": [],
   "source": [
    " iclip_nosoftclip = any_overlap(\"merged_Alyref-FLAG-R2.star.bam\", False, \"chr1\")"
   ]
  },
  {
   "cell_type": "code",
   "execution_count": 133,
   "metadata": {},
   "outputs": [
    {
     "data": {
      "text/plain": [
       "'1.6%'"
      ]
     },
     "execution_count": 133,
     "metadata": {},
     "output_type": "execute_result"
    }
   ],
   "source": [
    "\"%.1f%%\" %((iclip_nosoftclip.n_poses > 0).sum()*100.0/iclip_nosoftclip.shape[0])"
   ]
  },
  {
   "cell_type": "code",
   "execution_count": 134,
   "metadata": {},
   "outputs": [
    {
     "data": {
      "text/plain": [
       "'32.4%'"
      ]
     },
     "execution_count": 134,
     "metadata": {},
     "output_type": "execute_result"
    }
   ],
   "source": [
    "\"%.1f%%\" % ((iclip_nosoftclip.n_overlap > 0).sum()*100.0/(iclip_nosoftclip.n_poses > 0).sum())"
   ]
  },
  {
   "cell_type": "markdown",
   "metadata": {},
   "source": [
    "So now the two position methods are very different! 10% of positions grouped by implied start position give more than one position when grouped by aligned start position, and in 95% of those cases there is an overlap between the UMIs at the different positions. \n",
    "\n",
    "Meanwhile only 1.5% of positions grouped by alignment start give more than one position when grouped by implied start and in only 30% of these cases do the positions share UMIs.\n",
    "\n",
    "While even the numbers in the second analysis are higher than either of the analysis for the first sample, the numbers are WAY lower than in the first analysis here. This suggests to me that for this sample the first method (group by implied start position) is the correct one.\n"
   ]
  }
 ],
 "metadata": {
  "kernelspec": {
   "display_name": "Python 2",
   "language": "python",
   "name": "python2"
  },
  "language_info": {
   "codemirror_mode": {
    "name": "ipython",
    "version": 2
   },
   "file_extension": ".py",
   "mimetype": "text/x-python",
   "name": "python",
   "nbconvert_exporter": "python",
   "pygments_lexer": "ipython2",
   "version": "2.7.13"
  }
 },
 "nbformat": 4,
 "nbformat_minor": 2
}
